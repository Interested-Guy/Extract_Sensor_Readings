{
  "nbformat": 4,
  "nbformat_minor": 0,
  "metadata": {
    "colab": {
      "provenance": [],
      "authorship_tag": "ABX9TyNaEs/8CZSl47Dme6QlIup4",
      "include_colab_link": true
    },
    "kernelspec": {
      "name": "python3",
      "display_name": "Python 3"
    },
    "language_info": {
      "name": "python"
    },
    "widgets": {
      "application/vnd.jupyter.widget-state+json": {
        "43fb4f9d0c024a418fc91389bc5d96fb": {
          "model_module": "jupyterlab-plotly",
          "model_name": "FigureModel",
          "model_module_version": "^5.5.0",
          "state": {
            "_config": {
              "plotlyServerURL": "https://plot.ly"
            },
            "_data": [],
            "_dom_classes": [],
            "_js2py_layoutDelta": {},
            "_js2py_pointsCallback": {},
            "_js2py_relayout": {},
            "_js2py_restyle": {},
            "_js2py_traceDeltas": {},
            "_js2py_update": {},
            "_last_layout_edit_id": 0,
            "_last_trace_edit_id": 0,
            "_layout": {},
            "_model_module": "jupyterlab-plotly",
            "_model_module_version": "^5.5.0",
            "_model_name": "FigureModel",
            "_py2js_addTraces": {},
            "_py2js_animate": {},
            "_py2js_deleteTraces": {},
            "_py2js_moveTraces": {},
            "_py2js_relayout": null,
            "_py2js_removeLayoutProps": {},
            "_py2js_removeTraceProps": {},
            "_py2js_restyle": {},
            "_py2js_update": {},
            "_view_count": 0,
            "_view_module": "jupyterlab-plotly",
            "_view_module_version": "^5.5.0",
            "_view_name": "FigureView"
          }
        },
        "145ae3e6716a4fbfbfc254768816a28d": {
          "model_module": "jupyterlab-plotly",
          "model_name": "FigureModel",
          "model_module_version": "^5.5.0",
          "state": {
            "_config": {
              "plotlyServerURL": "https://plot.ly"
            },
            "_data": [],
            "_dom_classes": [],
            "_js2py_layoutDelta": null,
            "_js2py_pointsCallback": {},
            "_js2py_relayout": null,
            "_js2py_restyle": {},
            "_js2py_traceDeltas": null,
            "_js2py_update": {},
            "_last_layout_edit_id": 273,
            "_last_trace_edit_id": 271,
            "_layout": {},
            "_model_module": "jupyterlab-plotly",
            "_model_module_version": "^5.5.0",
            "_model_name": "FigureModel",
            "_py2js_addTraces": null,
            "_py2js_animate": {},
            "_py2js_deleteTraces": {},
            "_py2js_moveTraces": {},
            "_py2js_relayout": null,
            "_py2js_removeLayoutProps": {},
            "_py2js_removeTraceProps": {},
            "_py2js_restyle": null,
            "_py2js_update": {},
            "_view_count": 1,
            "_view_module": "jupyterlab-plotly",
            "_view_module_version": "^5.5.0",
            "_view_name": "FigureView"
          }
        }
      }
    }
  },
  "cells": [
    {
      "cell_type": "markdown",
      "metadata": {
        "id": "view-in-github",
        "colab_type": "text"
      },
      "source": [
        "<a href=\"https://colab.research.google.com/github/TXH2020/Extract_Sensor_Readings/blob/main/Kafka_Sample.ipynb\" target=\"_parent\"><img src=\"https://colab.research.google.com/assets/colab-badge.svg\" alt=\"Open In Colab\"/></a>"
      ]
    },
    {
      "cell_type": "code",
      "source": [
        "import urllib.request as ureq\n",
        "ureq.urlretrieve(\"https://raw.githubusercontent.com/TXH2020/Extract_Sensor_Readings/main/hosts\",\"hosts\")"
      ],
      "metadata": {
        "colab": {
          "base_uri": "https://localhost:8080/"
        },
        "id": "OfgNVgrFUecC",
        "outputId": "f11299e1-10d1-4eb8-d2e1-17ce9776840f"
      },
      "execution_count": 1,
      "outputs": [
        {
          "output_type": "execute_result",
          "data": {
            "text/plain": [
              "('hosts', <http.client.HTTPMessage at 0x7fbdead540d0>)"
            ]
          },
          "metadata": {},
          "execution_count": 1
        }
      ]
    },
    {
      "cell_type": "code",
      "source": [
        "%cp hosts /etc/hosts"
      ],
      "metadata": {
        "id": "NsPXSduC45sh"
      },
      "execution_count": 2,
      "outputs": []
    },
    {
      "cell_type": "code",
      "source": [
        "%cat /etc/hosts"
      ],
      "metadata": {
        "colab": {
          "base_uri": "https://localhost:8080/"
        },
        "id": "C1DhVbT2EsVZ",
        "outputId": "2c0b4be1-aaf1-42fd-9c67-d4dc61960017"
      },
      "execution_count": 3,
      "outputs": [
        {
          "output_type": "stream",
          "name": "stdout",
          "text": [
            "127.0.0.1\tlocalhost\r\n",
            "::1\tlocalhost ip6-localhost ip6-loopback\r\n",
            "fe00::0\tip6-localnet\r\n",
            "ff00::0\tip6-mcastprefix\r\n",
            "ff02::1\tip6-allnodes\r\n",
            "ff02::2\tip6-allrouters\r\n",
            "172.28.0.12\t5dd26d8a0441\r\n",
            "20.232.178.123 realtimegraphvm"
          ]
        }
      ]
    },
    {
      "cell_type": "code",
      "source": [
        "!pip install kafka-python"
      ],
      "metadata": {
        "colab": {
          "base_uri": "https://localhost:8080/"
        },
        "id": "h6rKmj_hO1Up",
        "outputId": "95cc56a6-b9fc-4a9e-ca1a-e9ff6ae02bb9"
      },
      "execution_count": 4,
      "outputs": [
        {
          "output_type": "stream",
          "name": "stdout",
          "text": [
            "Looking in indexes: https://pypi.org/simple, https://us-python.pkg.dev/colab-wheels/public/simple/\n",
            "Collecting kafka-python\n",
            "  Downloading kafka_python-2.0.2-py2.py3-none-any.whl (246 kB)\n",
            "\u001b[2K     \u001b[90m━━━━━━━━━━━━━━━━━━━━━━━━━━━━━━━━━━━━━━━\u001b[0m \u001b[32m246.5/246.5 KB\u001b[0m \u001b[31m5.3 MB/s\u001b[0m eta \u001b[36m0:00:00\u001b[0m\n",
            "\u001b[?25hInstalling collected packages: kafka-python\n",
            "Successfully installed kafka-python-2.0.2\n"
          ]
        }
      ]
    },
    {
      "cell_type": "code",
      "source": [
        "import plotly.graph_objects as go\n",
        "fig = go.FigureWidget()\n",
        "fig"
      ],
      "metadata": {
        "colab": {
          "base_uri": "https://localhost:8080/",
          "height": 17,
          "referenced_widgets": [
            "43fb4f9d0c024a418fc91389bc5d96fb"
          ]
        },
        "id": "kQfwibD6JIbp",
        "outputId": "0923bdf2-dd38-4cfe-c15a-28382253e853"
      },
      "execution_count": 5,
      "outputs": [
        {
          "output_type": "display_data",
          "data": {
            "text/plain": [
              "FigureWidget({\n",
              "    'data': [], 'layout': {'template': '...'}\n",
              "})"
            ],
            "application/vnd.jupyter.widget-view+json": {
              "version_major": 2,
              "version_minor": 0,
              "model_id": "43fb4f9d0c024a418fc91389bc5d96fb"
            }
          },
          "metadata": {}
        }
      ]
    },
    {
      "cell_type": "code",
      "source": [
        "from google.colab import output\n",
        "output.enable_custom_widget_manager()"
      ],
      "metadata": {
        "id": "WXOfl1LzJNC6"
      },
      "execution_count": 6,
      "outputs": []
    },
    {
      "cell_type": "code",
      "source": [
        "fig = go.FigureWidget()\n",
        "fig.add_scatter()\n",
        "fig.layout.title = \"Light Sensor Plot\"\n",
        "fig"
      ],
      "metadata": {
        "colab": {
          "base_uri": "https://localhost:8080/",
          "height": 467,
          "referenced_widgets": [
            "145ae3e6716a4fbfbfc254768816a28d"
          ]
        },
        "id": "TgIqYSYLJpxQ",
        "outputId": "1a5ef59f-1146-4ee5-9f4d-4201bba867d8"
      },
      "execution_count": 7,
      "outputs": [
        {
          "output_type": "display_data",
          "data": {
            "text/plain": [
              "FigureWidget({\n",
              "    'data': [{'type': 'scatter', 'uid': 'd2b5b20a-8e7d-462c-9458-a6e363077527'}],\n",
              "    'layout':…"
            ],
            "application/vnd.jupyter.widget-view+json": {
              "version_major": 2,
              "version_minor": 0,
              "model_id": "145ae3e6716a4fbfbfc254768816a28d"
            }
          },
          "metadata": {
            "application/vnd.jupyter.widget-view+json": {
              "colab": {
                "custom_widget_manager": {
                  "url": "https://ssl.gstatic.com/colaboratory-static/widgets/colab-cdn-widget-manager/b3e629b1971e1542/manager.min.js"
                }
              }
            }
          }
        }
      ]
    },
    {
      "cell_type": "code",
      "source": [
        "import sys\n",
        "from json import loads  \n",
        "from kafka import KafkaConsumer\n",
        "my_consumer = KafkaConsumer(  \n",
        "    'sensor',  \n",
        "     bootstrap_servers = ['20.232.178.123:9092'],  \n",
        "     auto_offset_reset = 'earliest',  \n",
        "     enable_auto_commit = True,  \n",
        "     group_id = 'my-group',  \n",
        "     consumer_timeout_ms=10000,\n",
        "     value_deserializer = lambda x : x.decode('utf-8')\n",
        "     )\n",
        "data=[]\n",
        "i=1\n",
        "for message in my_consumer:\n",
        "    x=message.value[16:]\n",
        "    y=float(x[:len(x)-1])\n",
        "    data.append(y)\n",
        "    fig.data[0].y=data[:i]\n",
        "    i+=1"
      ],
      "metadata": {
        "id": "yKX_zvao41kq"
      },
      "execution_count": 8,
      "outputs": []
    }
  ]
}