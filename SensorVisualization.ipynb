{
  "nbformat": 4,
  "nbformat_minor": 0,
  "metadata": {
    "colab": {
      "provenance": [],
      "authorship_tag": "ABX9TyMHyju8fVCTPf6eAw4UzLop",
      "include_colab_link": true
    },
    "kernelspec": {
      "name": "python3",
      "display_name": "Python 3"
    },
    "language_info": {
      "name": "python"
    },
    "widgets": {
      "application/vnd.jupyter.widget-state+json": {
        "01c55a23bc334a33aa4b65c622bccf0b": {
          "model_module": "jupyterlab-plotly",
          "model_name": "FigureModel",
          "model_module_version": "^5.5.0",
          "state": {
            "_config": {
              "plotlyServerURL": "https://plot.ly"
            },
            "_data": [],
            "_dom_classes": [],
            "_js2py_layoutDelta": {},
            "_js2py_pointsCallback": {},
            "_js2py_relayout": {},
            "_js2py_restyle": {},
            "_js2py_traceDeltas": {},
            "_js2py_update": {},
            "_last_layout_edit_id": 0,
            "_last_trace_edit_id": 0,
            "_layout": {},
            "_model_module": "jupyterlab-plotly",
            "_model_module_version": "^5.5.0",
            "_model_name": "FigureModel",
            "_py2js_addTraces": {},
            "_py2js_animate": {},
            "_py2js_deleteTraces": {},
            "_py2js_moveTraces": {},
            "_py2js_relayout": null,
            "_py2js_removeLayoutProps": {},
            "_py2js_removeTraceProps": {},
            "_py2js_restyle": {},
            "_py2js_update": {},
            "_view_count": 0,
            "_view_module": "jupyterlab-plotly",
            "_view_module_version": "^5.5.0",
            "_view_name": "FigureView"
          }
        },
        "d4a9fc2c08854f27b8b9d512580eb400": {
          "model_module": "jupyterlab-plotly",
          "model_name": "FigureModel",
          "model_module_version": "^5.5.0",
          "state": {
            "_config": {
              "plotlyServerURL": "https://plot.ly"
            },
            "_data": [],
            "_dom_classes": [],
            "_js2py_layoutDelta": null,
            "_js2py_pointsCallback": null,
            "_js2py_relayout": null,
            "_js2py_restyle": {},
            "_js2py_traceDeltas": null,
            "_js2py_update": {},
            "_last_layout_edit_id": 161,
            "_last_trace_edit_id": 159,
            "_layout": {},
            "_model_module": "jupyterlab-plotly",
            "_model_module_version": "^5.5.0",
            "_model_name": "FigureModel",
            "_py2js_addTraces": null,
            "_py2js_animate": {},
            "_py2js_deleteTraces": {},
            "_py2js_moveTraces": {},
            "_py2js_relayout": null,
            "_py2js_removeLayoutProps": {},
            "_py2js_removeTraceProps": {},
            "_py2js_restyle": null,
            "_py2js_update": {},
            "_view_count": 1,
            "_view_module": "jupyterlab-plotly",
            "_view_module_version": "^5.5.0",
            "_view_name": "FigureView"
          }
        }
      }
    }
  },
  "cells": [
    {
      "cell_type": "markdown",
      "metadata": {
        "id": "view-in-github",
        "colab_type": "text"
      },
      "source": [
        "<a href=\"https://colab.research.google.com/github/TXH2020/Extract_Sensor_Readings/blob/main/SensorVisualization.ipynb\" target=\"_parent\"><img src=\"https://colab.research.google.com/assets/colab-badge.svg\" alt=\"Open In Colab\"/></a>"
      ]
    },
    {
      "cell_type": "markdown",
      "source": [
        "##Here, you can visualize your phone sensor data. You must have installed the app for the project through the apk file present in my ExtractSensorReadings Github repo. Run every cell one by one."
      ],
      "metadata": {
        "id": "cQOh54VQMyrf"
      }
    },
    {
      "cell_type": "markdown",
      "source": [
        "###When you run the below cell, colab may display a prompt on the right side of the screen. Simply close the prompt and go to the next cell."
      ],
      "metadata": {
        "id": "nqTuRpy8NuIn"
      }
    },
    {
      "cell_type": "code",
      "source": [
        "import time\n",
        "import plotly.graph_objects as go\n",
        "fig = go.FigureWidget()\n",
        "fig"
      ],
      "metadata": {
        "colab": {
          "base_uri": "https://localhost:8080/",
          "height": 17,
          "referenced_widgets": [
            "01c55a23bc334a33aa4b65c622bccf0b"
          ]
        },
        "id": "29e-Y2sW9Jku",
        "outputId": "ec326934-d419-49d4-f350-d2d5026be87d"
      },
      "execution_count": 1,
      "outputs": [
        {
          "output_type": "display_data",
          "data": {
            "text/plain": [
              "FigureWidget({\n",
              "    'data': [], 'layout': {'template': '...'}\n",
              "})"
            ],
            "application/vnd.jupyter.widget-view+json": {
              "version_major": 2,
              "version_minor": 0,
              "model_id": "01c55a23bc334a33aa4b65c622bccf0b"
            }
          },
          "metadata": {}
        }
      ]
    },
    {
      "cell_type": "markdown",
      "source": [
        "###This cell solves the problem that was shown by the prompt."
      ],
      "metadata": {
        "id": "JaVvT9FvN9G-"
      }
    },
    {
      "cell_type": "code",
      "source": [
        "from google.colab import output\n",
        "output.enable_custom_widget_manager()"
      ],
      "metadata": {
        "id": "mLVdYofvTXr7"
      },
      "execution_count": 2,
      "outputs": []
    },
    {
      "cell_type": "markdown",
      "source": [
        "###You should get a nice blue grid after executing this cell. If you did not get it, then rerun the cell. Do not close the output. This figure will be updated by the next cell. "
      ],
      "metadata": {
        "id": "TtoK7-l0OEIW"
      }
    },
    {
      "cell_type": "code",
      "source": [
        "fig = go.FigureWidget()\n",
        "fig.add_scatter()\n",
        "fig.layout.title = \"Light Sensor Plot\"\n",
        "fig"
      ],
      "metadata": {
        "colab": {
          "base_uri": "https://localhost:8080/",
          "height": 467,
          "referenced_widgets": [
            "d4a9fc2c08854f27b8b9d512580eb400"
          ]
        },
        "id": "zLIdsp_Z-Vfo",
        "outputId": "3959696e-f9a6-499d-c481-cc9488ef9eed"
      },
      "execution_count": 3,
      "outputs": [
        {
          "output_type": "display_data",
          "data": {
            "text/plain": [
              "FigureWidget({\n",
              "    'data': [{'type': 'scatter', 'uid': '9621b030-c055-4297-9671-813588f39950'}],\n",
              "    'layout':…"
            ],
            "application/vnd.jupyter.widget-view+json": {
              "version_major": 2,
              "version_minor": 0,
              "model_id": "d4a9fc2c08854f27b8b9d512580eb400"
            }
          },
          "metadata": {
            "application/vnd.jupyter.widget-view+json": {
              "colab": {
                "custom_widget_manager": {
                  "url": "https://ssl.gstatic.com/colaboratory-static/widgets/colab-cdn-widget-manager/b3e629b1971e1542/manager.min.js"
                }
              }
            }
          }
        }
      ]
    },
    {
      "cell_type": "markdown",
      "source": [
        "###This cell modifies the view that was presented in the previous cell. It basically checks for sensor data from your phone. So before you run this cell, simply open the app. Phone sensor data will be uploaded in the background. Please enable Wifi or mobile network to enable successful upload of data. Then run the cell. Once you click on run, immediately observe the figure in the previous cell's output. It will now display the plot. To check updated plot simply rerun the cell while your phone will send the data. You should see a new plot. If you hold orient the phone in different directions the changes will be reflected in the plot when you run the cell.In case you want see the data in the form of text then run the next cell."
      ],
      "metadata": {
        "id": "XRxvaqgFOqkH"
      }
    },
    {
      "cell_type": "code",
      "source": [
        "import requests\n",
        "parameters={'clear_authorized':'Yes'}\n",
        "r=requests.post('https://roger123.pythonanywhere.com/fetch_data/',data=parameters)\n",
        "l=r.text.split('\\n')\n",
        "from datetime import datetime\n",
        "data=[]\n",
        "dates=[]\n",
        "for i in l:\n",
        "  try:\n",
        "    l1=i.split(',')\n",
        "    a=l1[0].split(':')[1].lstrip()\n",
        "    data.append(float(a[:len(a)-1]))\n",
        "    dates.append(datetime.strptime(l1[1][:l1[1].find('.')], '%Y-%m-%d %H:%M:%S'))\n",
        "  except:\n",
        "    pass\n",
        "for i in range(len(data)):\n",
        "  fig.data[0].y=data[:i]\n",
        "  fig.data[0].x=dates[:i]\n",
        "  time.sleep(0.1)"
      ],
      "metadata": {
        "id": "dEVkiYknTM60"
      },
      "execution_count": 5,
      "outputs": []
    },
    {
      "cell_type": "markdown",
      "source": [
        "###This cell displays the phone sensor data along with the timestamp for showing the time at which it was received by the server. "
      ],
      "metadata": {
        "id": "wtqI6ROKQbuv"
      }
    },
    {
      "cell_type": "code",
      "source": [
        "print(r.text)"
      ],
      "metadata": {
        "colab": {
          "base_uri": "https://localhost:8080/"
        },
        "id": "y5rnjA0QQTfu",
        "outputId": "69a7fb84-870f-4854-c428-6e89917907f0"
      },
      "execution_count": 7,
      "outputs": [
        {
          "output_type": "stream",
          "name": "stdout",
          "text": [
            "b'Light Sensor: 4.00',2023-01-14 12:33:53.560635\n",
            "b'Light Sensor: 4.00',2023-01-14 12:33:53.616390\n",
            "b'Light Sensor: 8.00',2023-01-14 12:33:53.777406\n",
            "b'Light Sensor: 8.00',2023-01-14 12:33:53.969350\n",
            "b'Light Sensor: 9.00',2023-01-14 12:33:54.173328\n",
            "b'Light Sensor: 9.00',2023-01-14 12:33:54.384027\n",
            "b'Light Sensor: 7.00',2023-01-14 12:33:54.593452\n",
            "b'Light Sensor: 4.00',2023-01-14 12:33:54.776117\n",
            "b'Light Sensor: 4.00',2023-01-14 12:33:54.975243\n",
            "b'Light Sensor: 3.00',2023-01-14 12:33:55.169938\n",
            "b'Light Sensor: 3.00',2023-01-14 12:33:55.390053\n",
            "b'Light Sensor: 3.00',2023-01-14 12:33:55.610922\n",
            "b'Light Sensor: 4.00',2023-01-14 12:33:55.782770\n",
            "b'Light Sensor: 3.00',2023-01-14 12:33:55.987981\n",
            "b'Light Sensor: 3.00',2023-01-14 12:33:56.186296\n",
            "b'Light Sensor: 3.00',2023-01-14 12:33:56.388510\n",
            "b'Light Sensor: 3.00',2023-01-14 12:33:56.592276\n",
            "b'Light Sensor: 3.00',2023-01-14 12:33:56.791242\n",
            "b'Light Sensor: 4.00',2023-01-14 12:33:57.002340\n",
            "b'Light Sensor: 3.00',2023-01-14 12:33:57.195376\n",
            "b'Light Sensor: 3.00',2023-01-14 12:33:57.389921\n",
            "b'Light Sensor: 4.00',2023-01-14 12:33:57.593231\n",
            "b'Light Sensor: 3.00',2023-01-14 12:33:57.801548\n",
            "b'Light Sensor: 3.00',2023-01-14 12:33:57.994601\n",
            "b'Light Sensor: 4.00',2023-01-14 12:33:58.199095\n",
            "b'Light Sensor: 3.00',2023-01-14 12:33:58.394330\n",
            "b'Light Sensor: 3.00',2023-01-14 12:33:58.590632\n",
            "b'Light Sensor: 3.00',2023-01-14 12:33:58.798376\n",
            "b'Light Sensor: 4.00',2023-01-14 12:33:59.014942\n",
            "b'Light Sensor: 3.00',2023-01-14 12:33:59.189357\n",
            "b'Light Sensor: 4.00',2023-01-14 12:33:59.401856\n",
            "b'Light Sensor: 3.00',2023-01-14 12:33:59.584280\n",
            "b'Light Sensor: 3.00',2023-01-14 12:33:59.802256\n",
            "b'Light Sensor: 4.00',2023-01-14 12:34:00.014995\n",
            "b'Light Sensor: 3.00',2023-01-14 12:34:00.224661\n",
            "b'Light Sensor: 4.00',2023-01-14 12:34:00.401223\n",
            "b'Light Sensor: 4.00',2023-01-14 12:34:00.588558\n",
            "b'Light Sensor: 3.00',2023-01-14 12:34:00.804484\n",
            "b'Light Sensor: 4.00',2023-01-14 12:34:00.986242\n",
            "b'Light Sensor: 4.00',2023-01-14 12:34:01.199623\n",
            "b'Light Sensor: 3.00',2023-01-14 12:34:01.387915\n",
            "b'Light Sensor: 3.00',2023-01-14 12:34:01.592599\n",
            "b'Light Sensor: 3.00',2023-01-14 12:34:01.803045\n",
            "b'Light Sensor: 4.00',2023-01-14 12:34:02.005179\n",
            "b'Light Sensor: 4.00',2023-01-14 12:34:02.208884\n",
            "b'Light Sensor: 3.00',2023-01-14 12:34:02.392627\n",
            "b'Light Sensor: 3.00',2023-01-14 12:34:02.590993\n",
            "b'Light Sensor: 3.00',2023-01-14 12:34:02.788495\n",
            "b'Light Sensor: 4.00',2023-01-14 12:34:02.994527\n",
            "b'Light Sensor: 4.00',2023-01-14 12:34:03.193449\n",
            "b'Light Sensor: 4.00',2023-01-14 12:34:03.396907\n",
            "b'Light Sensor: 3.00',2023-01-14 12:34:03.591387\n",
            "b'Light Sensor: 4.00',2023-01-14 12:34:03.796821\n",
            "b'Light Sensor: 3.00',2023-01-14 12:34:03.990646\n",
            "b'Light Sensor: 3.00',2023-01-14 12:34:04.200835\n",
            "b'Light Sensor: 3.00',2023-01-14 12:34:05.432930\n",
            "b'Light Sensor: 4.00',2023-01-14 12:34:05.452562\n",
            "b'Light Sensor: 4.00',2023-01-14 12:34:05.461172\n",
            "b'Light Sensor: 4.00',2023-01-14 12:34:05.467557\n",
            "b'Light Sensor: 4.00',2023-01-14 12:34:05.473619\n",
            "b'Light Sensor: 4.00',2023-01-14 12:34:05.479784\n",
            "b'Light Sensor: 3.00',2023-01-14 12:34:05.608324\n",
            "b'Light Sensor: 5.00',2023-01-14 12:34:05.793587\n",
            "b'Light Sensor: 31.00',2023-01-14 12:34:05.990363\n",
            "b'Light Sensor: 56.00',2023-01-14 12:34:06.188352\n",
            "b'Light Sensor: 68.00',2023-01-14 12:34:06.400013\n",
            "b'Light Sensor: 69.00',2023-01-14 12:34:06.596648\n",
            "b'Light Sensor: 68.00',2023-01-14 12:34:06.788347\n",
            "b'Light Sensor: 68.00',2023-01-14 12:34:06.991437\n",
            "b'Light Sensor: 39.00',2023-01-14 12:34:07.196219\n",
            "b'Light Sensor: 4.00',2023-01-14 12:34:07.386428\n",
            "b'Light Sensor: 3.00',2023-01-14 12:34:07.592570\n",
            "b'Light Sensor: 3.00',2023-01-14 12:34:07.798283\n",
            "b'Light Sensor: 4.00',2023-01-14 12:34:07.992133\n",
            "b'Light Sensor: 4.00',2023-01-14 12:34:08.188185\n",
            "b'Light Sensor: 4.00',2023-01-14 12:34:08.390220\n",
            "b'Light Sensor: 8.00',2023-01-14 12:34:08.610321\n",
            "b'Light Sensor: 8.00',2023-01-14 12:34:08.796201\n",
            "b'Light Sensor: 8.00',2023-01-14 12:34:08.997559\n",
            "\n"
          ]
        }
      ]
    },
    {
      "cell_type": "markdown",
      "source": [
        "###This cell is for cleaning up the data. If you dont execute this cell then the plot will include old data and may also show lot of inactivity(flat line)"
      ],
      "metadata": {
        "id": "J84BSHVyQx8W"
      }
    },
    {
      "cell_type": "code",
      "source": [
        "parameters={'clear_authorized':'Yes'}\n",
        "r=requests.post('https://roger123.pythonanywhere.com/clear/',data=parameters)\n",
        "print(r.text)"
      ],
      "metadata": {
        "colab": {
          "base_uri": "https://localhost:8080/"
        },
        "id": "pPK0gt3_KbI3",
        "outputId": "c1ca7345-73a2-40a4-a97f-399e18d37d4a"
      },
      "execution_count": 8,
      "outputs": [
        {
          "output_type": "stream",
          "name": "stdout",
          "text": [
            "Data cleared!\n"
          ]
        }
      ]
    }
  ]
}